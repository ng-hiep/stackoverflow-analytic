{
 "cells": [
  {
   "cell_type": "code",
   "execution_count": null,
   "metadata": {},
   "outputs": [],
   "source": [
    "from google.cloud import storage\n",
    "import pandas as pd\n",
    "import os\n",
    "import subprocess\n",
    "\n",
    "# Initialise a client\n",
    "storage_client = storage.Client(\"de-stack-overflow\")\n",
    "# Create a bucket object for our bucket\n",
    "bucket = storage_client.get_bucket('dtc_data_lake_de-stack-overflow')\n",
    "\n",
    "# all files in the bucket \n",
    "files = list(bucket.list_blobs())\n",
    "files = [blob.name for blob in files]\n",
    "\n",
    "\n",
    "# In[58]:\n",
    "\n",
    "files"
   ]
  },
  {
   "cell_type": "code",
   "execution_count": null,
   "metadata": {},
   "outputs": [],
   "source": [
    "for file in files:\n",
    "    # Create a blob object from the filepath\n",
    "    blob = bucket.blob(file)\n",
    "    # Download the file to a destination\n",
    "    blob.download_to_filename(file)\n",
    "\n",
    "    for idx, df in enumerate(pd.read_csv(file, chunksize=1000000)):\n",
    "        print(f'Processing chunk {idx+1} from {file}')\n",
    "        try:\n",
    "            df['group_by_date'] = pd.to_datetime(df['creation_date']).dt.strftime('%Y-%m')\n",
    "        \n",
    "        except:\n",
    "            df['group_by_date'] = pd.to_datetime(df['date']).dt.strftime('%Y-%m')\n",
    "            \n",
    "\n",
    "        for date in df['group_by_date'].unique():\n",
    "            df_to_write = df[df['group_by_date']==date]\n",
    "            output_path=f'{file.split(\"-\")[0]}-{date}.csv'\n",
    "            df_to_write.to_csv(output_path, mode='a', header=not os.path.exists(output_path), index = False)\n",
    "            print(f\"File {output_path} created succesfully\")\n",
    "            blob_csv = bucket.blob(f\"processed/{output_path}\")\n",
    "            blob_csv.upload_from_filename(output_path)\n",
    "            print(f\"File {output_path} uploaded to GCS succesfully\")\n",
    "            \n",
    "    bashCommand = f\"rm {file}\"\n",
    "    process = subprocess.Popen(bashCommand.split(), stdout=subprocess.PIPE)\n",
    "    output, error = process.communicate()\n",
    "    print(f'Finished processing {file}')\n",
    "\n",
    "bashCommand = \"rm *.csv\"\n",
    "process = subprocess.Popen(bashCommand.split(), stdout=subprocess.PIPE)\n",
    "output, error = process.communicate()"
   ]
  }
 ],
 "metadata": {
  "language_info": {
   "name": "python"
  }
 },
 "nbformat": 4,
 "nbformat_minor": 2
}
